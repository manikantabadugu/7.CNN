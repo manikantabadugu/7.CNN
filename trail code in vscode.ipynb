%matplotlib inline
%config InlineBackend.figure_format = 'retina'

import matplotlib.pyplot as plt

import torch
from torchvision import datasets, transforms
